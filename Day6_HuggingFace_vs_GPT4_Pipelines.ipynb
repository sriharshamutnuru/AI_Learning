{
 "cells": [
  {
   "cell_type": "markdown",
   "id": "dda62b0e",
   "metadata": {},
   "source": [
    "\n",
    "# 🧭 Day 6 — Hugging Face Pipelines: Summarization & Question Answering\n",
    "\n",
    "**Objective:**  \n",
    "Use prebuilt Hugging Face pipelines for *Summarization* and *Question Answering (QA)*.  \n",
    "Compare results with OpenAI GPT‑4 summarization.\n",
    "\n",
    "---\n"
   ]
  },
  {
   "cell_type": "code",
   "execution_count": null,
   "id": "0f0c097f",
   "metadata": {},
   "outputs": [],
   "source": [
    "\n",
    "!pip install transformers datasets torch accelerate openai --upgrade --quiet\n"
   ]
  },
  {
   "cell_type": "markdown",
   "id": "b94d112e",
   "metadata": {},
   "source": [
    "## 🧩 Summarization with Hugging Face Pipeline"
   ]
  },
  {
   "cell_type": "code",
   "execution_count": null,
   "id": "a52bd8b9",
   "metadata": {},
   "outputs": [],
   "source": [
    "\n",
    "from transformers import pipeline\n",
    "\n",
    "# Load the summarization model\n",
    "summarizer = pipeline(\"summarization\", model=\"facebook/bart-large-cnn\")\n",
    "\n",
    "# Paste your long article here (800–1000 words)\n",
    "article = \"\"\"\n",
    "Artificial Intelligence (AI) is revolutionizing industries, driving automation, efficiency,\n",
    "and new ways of decision-making. Companies are leveraging AI in finance, healthcare,\n",
    "and logistics to predict outcomes, optimize processes, and deliver better customer experiences.\n",
    "However, this growth also raises ethical, governance, and bias concerns that organizations must address.\n",
    "\"\"\"\n",
    "\n",
    "# Generate summary\n",
    "summary_hf = summarizer(article, max_length=150, min_length=50, do_sample=False)\n",
    "print(\"🔹 Hugging Face Summary:\\n\", summary_hf[0]['summary_text'])\n"
   ]
  },
  {
   "cell_type": "markdown",
   "id": "701dbc24",
   "metadata": {},
   "source": [
    "## 🤖 Summarization with OpenAI GPT‑4 (Colab Secrets Integration)"
   ]
  },
  {
   "cell_type": "code",
   "execution_count": null,
   "id": "68eefc9c",
   "metadata": {},
   "outputs": [],
   "source": [
    "\n",
    "from openai import OpenAI\n",
    "import os\n",
    "\n",
    "# Load key securely from Colab Secrets\n",
    "api_key = os.environ.get(\"OPENAI_API_KEY\")\n",
    "if not api_key:\n",
    "    raise ValueError(\"❌ OPENAI_API_KEY not found. Please check Colab Secrets setup.\")\n",
    "\n",
    "client = OpenAI(api_key=api_key)\n",
    "print(\"✅ OpenAI client initialized successfully.\")\n",
    "\n",
    "# Run GPT-4 summarization\n",
    "response = client.chat.completions.create(\n",
    "    model=\"gpt-4\",\n",
    "    messages=[\n",
    "        {\"role\": \"system\", \"content\": \"You are a professional summarization assistant. Write a concise and factual summary.\"},\n",
    "        {\"role\": \"user\", \"content\": article}\n",
    "    ],\n",
    "    temperature=0.3,\n",
    "    max_tokens=400\n",
    ")\n",
    "\n",
    "summary_gpt4 = response.choices[0].message.content\n",
    "print(\"🔹 GPT‑4 Summary:\\n\", summary_gpt4)\n"
   ]
  },
  {
   "cell_type": "markdown",
   "id": "ed5e5955",
   "metadata": {},
   "source": [
    "\n",
    "## ⚖️ Comparison Notes (Fill This)\n",
    "\n",
    "| Aspect | Hugging Face | GPT‑4 |\n",
    "|--------|---------------|-------|\n",
    "| Style |  |  |\n",
    "| Length |  |  |\n",
    "| Accuracy |  |  |\n",
    "| Context Retention |  |  |\n",
    "\n",
    "**Observations:**\n",
    "- \n",
    "- \n",
    "- \n"
   ]
  },
  {
   "cell_type": "markdown",
   "id": "670a1a83",
   "metadata": {},
   "source": [
    "## ❓ Question Answering with Hugging Face Pipeline"
   ]
  },
  {
   "cell_type": "code",
   "execution_count": null,
   "id": "8fa807c6",
   "metadata": {},
   "outputs": [],
   "source": [
    "\n",
    "qa_pipeline = pipeline(\"question-answering\", model=\"distilbert-base-cased-distilled-squad\")\n",
    "\n",
    "context = \"\"\"\n",
    "Hugging Face is an AI company that develops tools for natural language processing.\n",
    "It created the Transformers library, which provides thousands of pre-trained models.\n",
    "\"\"\"\n",
    "\n",
    "question = \"Who created the Transformers library?\"\n",
    "\n",
    "answer = qa_pipeline(question=question, context=context)\n",
    "print(\"Answer:\", answer['answer'], \"| Confidence:\", round(answer['score'], 3))\n"
   ]
  },
  {
   "cell_type": "markdown",
   "id": "57d1874c",
   "metadata": {},
   "source": [
    "\n",
    "---\n",
    "## ✅ Checkpoint\n",
    "\n",
    "- [ ] Hugging Face summarization executed successfully  \n",
    "- [ ] GPT‑4 summarization executed successfully  \n",
    "- [ ] QA pipeline produced correct answer  \n",
    "- [ ] Comparison notes filled\n",
    "\n",
    "📂 **Deliverables:**\n",
    "- `HF_summary.txt`\n",
    "- `GPT4_summary.txt`\n",
    "- `comparison_notes.md`\n",
    "- `QA_results.json`\n"
   ]
  }
 ],
 "metadata": {},
 "nbformat": 4,
 "nbformat_minor": 5
}
