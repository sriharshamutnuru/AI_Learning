{
  "nbformat": 4,
  "nbformat_minor": 0,
  "metadata": {
    "colab": {
      "provenance": [],
      "gpuType": "T4",
      "authorship_tag": "ABX9TyMI7Ay/9wlyaecTqOW257w4",
      "include_colab_link": true
    },
    "kernelspec": {
      "name": "python3",
      "display_name": "Python 3"
    },
    "language_info": {
      "name": "python"
    },
    "accelerator": "GPU"
  },
  "cells": [
    {
      "cell_type": "markdown",
      "metadata": {
        "id": "view-in-github",
        "colab_type": "text"
      },
      "source": [
        "<a href=\"https://colab.research.google.com/github/sriharshamutnuru/AI_Learning/blob/main/Day1_Environment_Setup.ipynb\" target=\"_parent\"><img src=\"https://colab.research.google.com/assets/colab-badge.svg\" alt=\"Open In Colab\"/></a>"
      ]
    },
    {
      "cell_type": "code",
      "execution_count": 1,
      "metadata": {
        "id": "2XfE3v-b9t8M"
      },
      "outputs": [],
      "source": [
        "!pip install openai transformers langchain sentence-transformers --quiet"
      ]
    },
    {
      "cell_type": "code",
      "source": [
        "import openai\n",
        "import transformers\n",
        "import langchain\n",
        "from sentence_transformers import SentenceTransformer\n",
        "\n",
        "print(\"✅ All imports successful!\")"
      ],
      "metadata": {
        "colab": {
          "base_uri": "https://localhost:8080/"
        },
        "id": "Ng3rWE8j-JVf",
        "outputId": "d31350bb-0987-4665-bf43-95b4aa82b7e2"
      },
      "execution_count": 2,
      "outputs": [
        {
          "output_type": "stream",
          "name": "stdout",
          "text": [
            "✅ All imports successful!\n"
          ]
        }
      ]
    },
    {
      "cell_type": "code",
      "source": [
        "import os\n",
        "from google.colab import userdata\n",
        "\n",
        "os.environ[\"OPENAI_API_KEY\"] = userdata.get('OPENAI_API_KEY')\n",
        "os.environ[\"HUGGINGFACEHUB_API_TOKEN\"] = userdata.get('HF_TOKEN')\n"
      ],
      "metadata": {
        "id": "JCHFB2vAEYhS"
      },
      "execution_count": 6,
      "outputs": []
    },
    {
      "cell_type": "code",
      "source": [
        "from openai import OpenAI\n",
        "client = OpenAI(api_key=os.environ[\"OPENAI_API_KEY\"])\n",
        "print(\"✅ OpenAI key loaded successfully!\")"
      ],
      "metadata": {
        "colab": {
          "base_uri": "https://localhost:8080/"
        },
        "id": "AnSCTUIFFaAi",
        "outputId": "e5d2476e-ce67-4039-861d-d1d04538f22e"
      },
      "execution_count": 7,
      "outputs": [
        {
          "output_type": "stream",
          "name": "stdout",
          "text": [
            "✅ OpenAI key loaded successfully!\n"
          ]
        }
      ]
    },
    {
      "cell_type": "code",
      "source": [
        "from huggingface_hub import HfApi\n",
        "api = HfApi()\n",
        "user = api.whoami(token=os.environ[\"HUGGINGFACEHUB_API_TOKEN\"])\n",
        "print(f\"✅ Hugging Face logged in as: {user['name']}\")"
      ],
      "metadata": {
        "colab": {
          "base_uri": "https://localhost:8080/"
        },
        "id": "0amQkG-HFbuI",
        "outputId": "fb732f11-1475-4040-9b5f-aee4037b5d55"
      },
      "execution_count": 8,
      "outputs": [
        {
          "output_type": "stream",
          "name": "stdout",
          "text": [
            "✅ Hugging Face logged in as: sriharsha0603\n"
          ]
        }
      ]
    }
  ]
}