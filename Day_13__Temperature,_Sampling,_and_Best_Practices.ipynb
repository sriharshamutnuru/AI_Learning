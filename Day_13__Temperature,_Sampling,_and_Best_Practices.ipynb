{
  "nbformat": 4,
  "nbformat_minor": 0,
  "metadata": {
    "colab": {
      "provenance": [],
      "authorship_tag": "ABX9TyM/HkFaUJlfN3pSdmx+KS55",
      "include_colab_link": true
    },
    "kernelspec": {
      "name": "python3",
      "display_name": "Python 3"
    },
    "language_info": {
      "name": "python"
    }
  },
  "cells": [
    {
      "cell_type": "markdown",
      "metadata": {
        "id": "view-in-github",
        "colab_type": "text"
      },
      "source": [
        "<a href=\"https://colab.research.google.com/github/sriharshamutnuru/AI_Learning/blob/main/Day_13__Temperature%2C_Sampling%2C_and_Best_Practices.ipynb\" target=\"_parent\"><img src=\"https://colab.research.google.com/assets/colab-badge.svg\" alt=\"Open In Colab\"/></a>"
      ]
    },
    {
      "cell_type": "code",
      "execution_count": 2,
      "metadata": {
        "colab": {
          "base_uri": "https://localhost:8080/"
        },
        "id": "lIl2tqXDPFZ-",
        "outputId": "154f8192-326b-47b6-f1ce-0c744d2dc41e"
      },
      "outputs": [
        {
          "output_type": "stream",
          "name": "stdout",
          "text": [
            "\n",
            "🌡️ Temperature: 0.0 | 🎯 Top-p: 1.0\n",
            "Microsoft Azure empowers businesses to accelerate application deployment, secure data management, and unleash AI-driven innovation in the cloud.\n",
            "\n",
            "🌡️ Temperature: 0.0 | 🎯 Top-p: 0.9\n",
            "Microsoft Azure empowers businesses to accelerate app deployment, secure data management, and unleash AI innovation in the cloud.\n",
            "\n",
            "🌡️ Temperature: 0.0 | 🎯 Top-p: 0.5\n",
            "Microsoft Azure empowers businesses to accelerate application deployment, secure data management, and unleash AI-driven innovation in the cloud.\n",
            "\n",
            "🌡️ Temperature: 0.3 | 🎯 Top-p: 1.0\n",
            "Microsoft Azure empowers businesses to accelerate innovation and secure data with its scalable cloud infrastructure.\n",
            "\n",
            "🌡️ Temperature: 0.3 | 🎯 Top-p: 0.9\n",
            "Microsoft Azure empowers businesses to accelerate application deployment, secure data management, and unleash AI-driven innovation in the cloud.\n",
            "\n",
            "🌡️ Temperature: 0.3 | 🎯 Top-p: 0.5\n",
            "Microsoft Azure empowers businesses to accelerate application deployment, secure data management, and unleash AI-driven innovation in the cloud.\n",
            "\n",
            "🌡️ Temperature: 0.7 | 🎯 Top-p: 1.0\n",
            "Microsoft Azure empowers businesses to accelerate application deployment, safeguard data, and unleash innovation through AI-driven insights in a scalable cloud environment.\n",
            "\n",
            "🌡️ Temperature: 0.7 | 🎯 Top-p: 0.9\n",
            "Microsoft Azure: your fast-track ticket to secure data management and AI-powered innovation in the cloud!\n",
            "\n",
            "🌡️ Temperature: 0.7 | 🎯 Top-p: 0.5\n",
            "Microsoft Azure empowers businesses to accelerate app deployment, secure data management, and unleash AI-driven innovation in the cloud.\n",
            "\n",
            "🌡️ Temperature: 1.0 | 🎯 Top-p: 1.0\n",
            "\"Microsoft Azure: Empowering businesses to soar with fast app deployment, secure data management, and AI-fueled innovation in the cloud.\"\n",
            "\n",
            "🌡️ Temperature: 1.0 | 🎯 Top-p: 0.9\n",
            "\"Microsoft Azure empowers businesses to swiftly launch applications, safeguard data, and unleash innovation with AI in the cloud.\"\n",
            "\n",
            "🌡️ Temperature: 1.0 | 🎯 Top-p: 0.5\n",
            "Microsoft Azure empowers businesses to swiftly launch applications, safeguard data, and unleash innovation through AI-driven insights in a scalable cloud environment.\n"
          ]
        }
      ],
      "source": [
        "# ============================================================\n",
        "# 📘 Day 13 — Temperature, Sampling, and Best Practices\n",
        "# ============================================================\n",
        "\n",
        "!pip install --quiet openai==1.109.1\n",
        "\n",
        "from openai import OpenAI\n",
        "from google.colab import userdata\n",
        "\n",
        "client = OpenAI(api_key=userdata.get('OPENAI_API_KEY'))\n",
        "MODEL = \"gpt-4o-mini\"\n",
        "\n",
        "prompt = \"\"\"\n",
        "Summarize this paragraph in one short, creative sentence:\n",
        "'Microsoft Azure provides scalable cloud infrastructure that helps businesses deploy applications faster, manage data securely, and innovate with AI-driven insights.'\n",
        "\"\"\"\n",
        "\n",
        "temperatures = [0.0, 0.3, 0.7, 1.0]\n",
        "top_ps = [1.0, 0.9, 0.5]\n",
        "\n",
        "results = []\n",
        "\n",
        "for temp in temperatures:\n",
        "    for top_p in top_ps:\n",
        "        response = client.chat.completions.create(\n",
        "            model=MODEL,\n",
        "            messages=[{\"role\": \"user\", \"content\": prompt}],\n",
        "            temperature=temp,\n",
        "            top_p=top_p,\n",
        "            max_tokens=50,\n",
        "        )\n",
        "        text = response.choices[0].message.content.strip()\n",
        "        results.append((temp, top_p, text))\n",
        "        print(\"\\n🌡️ Temperature:\", temp, \"| 🎯 Top-p:\", top_p)\n",
        "        print(text)\n"
      ]
    }
  ]
}