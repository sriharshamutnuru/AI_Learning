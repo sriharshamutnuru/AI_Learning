{
  "nbformat": 4,
  "nbformat_minor": 0,
  "metadata": {
    "colab": {
      "provenance": [],
      "authorship_tag": "ABX9TyOcy/xL+ZKDAxjJKXgD++P3",
      "include_colab_link": true
    },
    "kernelspec": {
      "name": "python3",
      "display_name": "Python 3"
    },
    "language_info": {
      "name": "python"
    }
  },
  "cells": [
    {
      "cell_type": "markdown",
      "metadata": {
        "id": "view-in-github",
        "colab_type": "text"
      },
      "source": [
        "<a href=\"https://colab.research.google.com/github/sriharshamutnuru/AI_Learning/blob/main/Day9_COT_Prompt_Engineering.ipynb\" target=\"_parent\"><img src=\"https://colab.research.google.com/assets/colab-badge.svg\" alt=\"Open In Colab\"/></a>"
      ]
    },
    {
      "cell_type": "code",
      "execution_count": null,
      "metadata": {
        "colab": {
          "base_uri": "https://localhost:8080/"
        },
        "id": "4m_BqeA24Fce",
        "outputId": "698fa748-8522-4f76-c096-00c69adf67ba"
      },
      "outputs": [
        {
          "output_type": "stream",
          "name": "stdout",
          "text": [
            "🧠 Model Output:\n",
            "{\n",
            "  \"reasoning\": \"On the first day, the factory produces 1200 units with a defect rate of 10%. Therefore, the number of defective units is 10% of 1200, which is 120 units. The number of non-defective units produced on the first day is 1200 - 120 = 1080 units. On the second day, production increases by 20%, so the new production amount is 1200 * 1.20 = 1440 units. The defect rate drops to 5%, so the number of defective units on the second day is 5% of 1440, which is 72 units. Therefore, the number of non-defective units produced on the second day is 1440 - 72 = 1368 units.\",\n",
            "  \"non_defective_units\": 1368\n",
            "}\n",
            "\n",
            "✅ JSON is valid and schema-compliant!\n",
            "Non-defective units: 1368\n"
          ]
        }
      ],
      "source": [
        "# ============================================================\n",
        "# 📘 Day 9 — Chain-of-Thought & Structured Outputs\n",
        "# ============================================================\n",
        "\n",
        "!pip install --quiet openai==1.109.1 jsonschema\n",
        "\n",
        "from openai import OpenAI\n",
        "from google.colab import userdata\n",
        "import json\n",
        "from jsonschema import validate, ValidationError\n",
        "\n",
        "client = OpenAI(api_key=userdata.get('OPENAI_API_KEY'))\n",
        "\n",
        "MODEL = \"gpt-4o-mini\"\n",
        "\n",
        "# --- Step 1: Prompt with CoT + Structured Output ---\n",
        "prompt = \"\"\"\n",
        "You are a reasoning assistant.\n",
        "Solve the following problem step-by-step, and return the final result as valid JSON.\n",
        "\n",
        "Problem: A factory produces 1200 units a day. 10% are defective.\n",
        "Next day, production increases by 20%, but defect rate drops to 5%.\n",
        "Calculate how many non-defective units were produced on the second day.\n",
        "\n",
        "Return JSON in this format:\n",
        "{\n",
        "  \"reasoning\": \"string\",\n",
        "  \"non_defective_units\": number\n",
        "}\n",
        "\n",
        "Return only JSON, no other text.\n",
        "\"\"\"\n",
        "\n",
        "response = client.chat.completions.create(\n",
        "    model=MODEL,\n",
        "    messages=[\n",
        "        {\"role\": \"system\", \"content\": \"You are a helpful reasoning assistant.\"},\n",
        "        {\"role\": \"user\", \"content\": prompt}\n",
        "    ],\n",
        "    temperature=0.3\n",
        ")\n",
        "\n",
        "output = response.choices[0].message.content.strip()\n",
        "\n",
        "print(\"🧠 Model Output:\")\n",
        "print(output)\n",
        "\n",
        "# --- Step 2: Validate JSON Schema ---\n",
        "schema = {\n",
        "    \"type\": \"object\",\n",
        "    \"properties\": {\n",
        "        \"reasoning\": {\"type\": \"string\"},\n",
        "        \"non_defective_units\": {\"type\": \"number\"}\n",
        "    },\n",
        "    \"required\": [\"reasoning\", \"non_defective_units\"]\n",
        "}\n",
        "\n",
        "try:\n",
        "    parsed_output = json.loads(output)\n",
        "    validate(instance=parsed_output, schema=schema)\n",
        "    print(\"\\n✅ JSON is valid and schema-compliant!\")\n",
        "    print(f\"Non-defective units: {parsed_output['non_defective_units']}\")\n",
        "except (json.JSONDecodeError, ValidationError) as e:\n",
        "    print(\"\\n❌ JSON validation failed!\")\n",
        "    print(\"Error:\", e)\n"
      ]
    }
  ]
}