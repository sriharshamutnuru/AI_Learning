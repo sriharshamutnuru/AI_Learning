{
  "nbformat": 4,
  "nbformat_minor": 0,
  "metadata": {
    "colab": {
      "provenance": []
    },
    "kernelspec": {
      "name": "python3",
      "display_name": "Python 3"
    },
    "language_info": {
      "name": "python"
    }
  },
  "cells": [
    {
      "cell_type": "code",
      "execution_count": 1,
      "metadata": {
        "colab": {
          "base_uri": "https://localhost:8080/",
          "height": 1000,
          "referenced_widgets": [
            "8d1b384e1f6a407889cfc6adab205bba",
            "2134e75a321d427f871c41e7d5483d10",
            "acf850b7d29c48aba0b858fdc2286a02",
            "09af9567e89d43508a1e933afb1e118e",
            "1c84ea56d8304fc4982e12b658978b4b",
            "5bc6833f52f24026aa6743c586b1295f",
            "0f4d6a0957874d999689b10500c4bb7a",
            "8943f300292e4a94abca9c30f2bf5c89",
            "950d179bd5f74d7c800b26d10bc7d302",
            "d867e39e086c40bc8a8530409ec20a5a",
            "8fb14e17efee4dbd9a5728c6a56bbda1",
            "4824084a6ccc439d829dec75bb7d8fe7",
            "9e547b8f326a448cb732672e7ff869d0",
            "08999972adb64b5fa2d96674f85cd9e2",
            "3f9dce40690c405cb18263bd87883576",
            "1aed79be25224ebd922c1ba54de013f8",
            "3a5ce09816d24a8b81476c3b71a555ab",
            "bed7a76a879e4120baeee51a582fc2ff",
            "4fb11afdcd824a968d02aad17f142ab3",
            "09540322b68a4d529f12a87085305d75",
            "a920a45e556b40809bc7df39a806797c",
            "0867771d4d3a40758260215e30a34e3d",
            "a181a86b371a40b4955fe0375013064d",
            "bf46abc81b4b4d87b1dd7a8e8f10e3a3",
            "e0442b0ff06d4a6cab575308f0166f82",
            "637810ba8a1b4cc19ee2570ee6650f34",
            "298be3ab642c4258929a45f687bb9aea",
            "7478ea3bf4b34ab1aefd9df8c6a881bc",
            "56630c794633453ab045c2ad2361bdf3",
            "054ab37fa03a4c5199edc5096b45f171",
            "0054beb9ae0c4456968f83f84abc02e1",
            "a520c49b63194fc9bfeff94fb1c4c85a",
            "3370055fd5394c4bb9fc5d8c8cca50c9",
            "67acb99fe3194eb1affe991d669e23c4",
            "f10fd8b553bf48329dd90c07cf4f2603",
            "80a5d04f389c4145b03ad20df271f348",
            "632e35b865514aeeb84d3a59c80b6d51",
            "43af727fafc8498d8978799aab4bd7fb",
            "0354393f88504b5091c692f79db418ea",
            "21de601a928547dcbb96a2fab09561a1",
            "d22caba7ce024f43855cb7f8c796e843",
            "017453b886374e1da35aee4cdb30af60",
            "026756e8418a4acebb01b1bc1bcf1ff6",
            "916ab506cfef4cc5a80d33d01b808166",
            "65259199e80e48d2b981a3d83fd14079",
            "42e23aef22f647468bd1f6a600c17b43",
            "3d0e1e12529e44e5a559b5988e81797a",
            "e0d7c0306bbf414796ac4db5b5a4a704",
            "ae90442375004978a6cd97272723451f",
            "1d50d1ba15c94ab790b0607bbf142311",
            "62aa27ca89eb432f94d3fbd49b4323ea",
            "7265c6eecad8470ebdfc66c448c06b75",
            "580617c6c7314ed3bd30c27f9a021c4b",
            "9be72245764142d4836823ff8bbebe29",
            "44d791587c4e421bae697cb7fe0db436",
            "99c15ba9f9b34f9cb5fddc2d28f98891",
            "9cca02b02b394c94a8458263e2fcacc1",
            "f53d1097d79a457ca647ef6def6dc780",
            "af9fb76eee494ec18c4536a8eb0a251f",
            "bb3701c5946e4054842f091b1a640cde",
            "83b1ee17d60d49cf80879a535cd0bcd0",
            "c26a4e7258bf437eb4424fe50adfdb55",
            "3039db90d71148b8a1bf7e99a3578157",
            "77dd52adae1e45109b9d9bcedcc01255",
            "ee4db6b384a84c97882b9457722a8870",
            "3b85c952b72d4e4da779a59a5af81e1b",
            "b2f9846900624ba3a6e720af46a5dcc7",
            "1af89a8720cf4ec8841dbc9a96b6778a",
            "9ad2d95241fb4d65910d19f1551d7d84",
            "bcbf4487fe854fbeabdcf37bc12f31ac",
            "055e9e208d634c98879a0d4684d3b5eb",
            "da3fe517503f4772a2ed3ab3e3a284ae",
            "e759c43afe57450eb3380a880be0858c",
            "b22300536afc4fb5b805013a41fddc43",
            "c90c42103f254251b26bde995d06b342",
            "e61ce60366d14c27b40c264a808c1f66",
            "bbb0c5f4a4054bb98f938b5db804be18",
            "e93c19f050c74caca54078cd7b2f6d10",
            "2185bd84d19146a2994568ca0b9a0ebb",
            "485d66c4611d4b46a2c2a955ee41a041",
            "fff49ab38e6c4ac3ae19fd4e3a2697aa",
            "10f209b906ff444f846d0e4d2818e319",
            "00c957abc5b34684b7b24155fc5756f8",
            "1f1d4983650c4aa9b75ee3812c082b13",
            "3deffb05a32e46efbc00fb175cce556e",
            "e6d090e23b5249f2b7beff6dbdf1484e",
            "0c01b0f08c66412394c6cac82c309b48",
            "b1f7b03f4295444c952767a2a56c8efb",
            "bbb9a0df6dc64b9d9ad9f2a40de5047d",
            "18086c1f2d874f5aafbdac26a91b78d4",
            "24ae5e95c07e4e63949a67c008c86fa9",
            "cb6af67ae3384ac88adc2a1c4340aa41",
            "f466fce862a34254a8e5edb4add358c7",
            "ae89cc3585064bd6b03c595e4bc3298c",
            "6e3d4c641e54447391226321339d787f",
            "f55feafb938241fe91aa7427d99eec8a",
            "81997f35b3154ddbb867bdaa5ccf3ee3",
            "c77da022b923477f83817b6eed8f9e99",
            "58fe9a89b1444e929d99315918cf09f1",
            "b3dfdfbe97214b629c70071f44b10b0d",
            "a75e5d9cf5d542d79daabb4eece989ee",
            "4e1e4b878f1049618082bb6f72873d69",
            "a8b79004e2454bd3bd0f7d9066057e2d",
            "d466c74ec28247f78b847660273d235c",
            "3a57752a663c436b954c89d9443b070c",
            "7aa30e51e8604b119f465298a50d9996",
            "11483318361945e687ac90a72157feb0",
            "7b6d68d07be046af8b936f9452fd1918",
            "7749f18c92a648b195b686edb84db255",
            "bb184e019c0043d1b4b953be46e7bd65",
            "c3208ab24bbb41af9a8ea6dc1404ec0a",
            "bc20ebbac78b4d83beaa937a5c0716e1",
            "047edf8e07ee44d8a4f832b8cf1bc4db",
            "a4d830c6b8ac4ddebb79c7aeda85928f",
            "a3b35a01797d451198bc4ef581c36e3c",
            "06e360c45027492cad93af685f9fcebe",
            "7a1a30940d444addb1f2160557841994",
            "ab672c7ec9cc4998b59e63adf330b248",
            "21a1dc6c4dc246f38777838a4ba9c74b",
            "0fbca4231e9e42faba9109b2666e2ea2",
            "e2ad4c69ec0a44fb966cfc1aed36bddf"
          ]
        },
        "id": "OpndeRNBDPJH",
        "outputId": "6c25bdc7-db13-46be-e358-bc437fb27deb"
      },
      "outputs": [
        {
          "output_type": "stream",
          "name": "stdout",
          "text": [
            "Requirement already satisfied: sentence-transformers in /usr/local/lib/python3.12/dist-packages (5.1.1)\n",
            "Requirement already satisfied: transformers<5.0.0,>=4.41.0 in /usr/local/lib/python3.12/dist-packages (from sentence-transformers) (4.56.2)\n",
            "Requirement already satisfied: tqdm in /usr/local/lib/python3.12/dist-packages (from sentence-transformers) (4.67.1)\n",
            "Requirement already satisfied: torch>=1.11.0 in /usr/local/lib/python3.12/dist-packages (from sentence-transformers) (2.8.0+cu126)\n",
            "Requirement already satisfied: scikit-learn in /usr/local/lib/python3.12/dist-packages (from sentence-transformers) (1.6.1)\n",
            "Requirement already satisfied: scipy in /usr/local/lib/python3.12/dist-packages (from sentence-transformers) (1.16.2)\n",
            "Requirement already satisfied: huggingface-hub>=0.20.0 in /usr/local/lib/python3.12/dist-packages (from sentence-transformers) (0.35.3)\n",
            "Requirement already satisfied: Pillow in /usr/local/lib/python3.12/dist-packages (from sentence-transformers) (11.3.0)\n",
            "Requirement already satisfied: typing_extensions>=4.5.0 in /usr/local/lib/python3.12/dist-packages (from sentence-transformers) (4.15.0)\n",
            "Requirement already satisfied: filelock in /usr/local/lib/python3.12/dist-packages (from huggingface-hub>=0.20.0->sentence-transformers) (3.19.1)\n",
            "Requirement already satisfied: fsspec>=2023.5.0 in /usr/local/lib/python3.12/dist-packages (from huggingface-hub>=0.20.0->sentence-transformers) (2025.3.0)\n",
            "Requirement already satisfied: packaging>=20.9 in /usr/local/lib/python3.12/dist-packages (from huggingface-hub>=0.20.0->sentence-transformers) (25.0)\n",
            "Requirement already satisfied: pyyaml>=5.1 in /usr/local/lib/python3.12/dist-packages (from huggingface-hub>=0.20.0->sentence-transformers) (6.0.3)\n",
            "Requirement already satisfied: requests in /usr/local/lib/python3.12/dist-packages (from huggingface-hub>=0.20.0->sentence-transformers) (2.32.4)\n",
            "Requirement already satisfied: hf-xet<2.0.0,>=1.1.3 in /usr/local/lib/python3.12/dist-packages (from huggingface-hub>=0.20.0->sentence-transformers) (1.1.10)\n",
            "Requirement already satisfied: setuptools in /usr/local/lib/python3.12/dist-packages (from torch>=1.11.0->sentence-transformers) (75.2.0)\n",
            "Requirement already satisfied: sympy>=1.13.3 in /usr/local/lib/python3.12/dist-packages (from torch>=1.11.0->sentence-transformers) (1.13.3)\n",
            "Requirement already satisfied: networkx in /usr/local/lib/python3.12/dist-packages (from torch>=1.11.0->sentence-transformers) (3.5)\n",
            "Requirement already satisfied: jinja2 in /usr/local/lib/python3.12/dist-packages (from torch>=1.11.0->sentence-transformers) (3.1.6)\n",
            "Requirement already satisfied: nvidia-cuda-nvrtc-cu12==12.6.77 in /usr/local/lib/python3.12/dist-packages (from torch>=1.11.0->sentence-transformers) (12.6.77)\n",
            "Requirement already satisfied: nvidia-cuda-runtime-cu12==12.6.77 in /usr/local/lib/python3.12/dist-packages (from torch>=1.11.0->sentence-transformers) (12.6.77)\n",
            "Requirement already satisfied: nvidia-cuda-cupti-cu12==12.6.80 in /usr/local/lib/python3.12/dist-packages (from torch>=1.11.0->sentence-transformers) (12.6.80)\n",
            "Requirement already satisfied: nvidia-cudnn-cu12==9.10.2.21 in /usr/local/lib/python3.12/dist-packages (from torch>=1.11.0->sentence-transformers) (9.10.2.21)\n",
            "Requirement already satisfied: nvidia-cublas-cu12==12.6.4.1 in /usr/local/lib/python3.12/dist-packages (from torch>=1.11.0->sentence-transformers) (12.6.4.1)\n",
            "Requirement already satisfied: nvidia-cufft-cu12==11.3.0.4 in /usr/local/lib/python3.12/dist-packages (from torch>=1.11.0->sentence-transformers) (11.3.0.4)\n",
            "Requirement already satisfied: nvidia-curand-cu12==10.3.7.77 in /usr/local/lib/python3.12/dist-packages (from torch>=1.11.0->sentence-transformers) (10.3.7.77)\n",
            "Requirement already satisfied: nvidia-cusolver-cu12==11.7.1.2 in /usr/local/lib/python3.12/dist-packages (from torch>=1.11.0->sentence-transformers) (11.7.1.2)\n",
            "Requirement already satisfied: nvidia-cusparse-cu12==12.5.4.2 in /usr/local/lib/python3.12/dist-packages (from torch>=1.11.0->sentence-transformers) (12.5.4.2)\n",
            "Requirement already satisfied: nvidia-cusparselt-cu12==0.7.1 in /usr/local/lib/python3.12/dist-packages (from torch>=1.11.0->sentence-transformers) (0.7.1)\n",
            "Requirement already satisfied: nvidia-nccl-cu12==2.27.3 in /usr/local/lib/python3.12/dist-packages (from torch>=1.11.0->sentence-transformers) (2.27.3)\n",
            "Requirement already satisfied: nvidia-nvtx-cu12==12.6.77 in /usr/local/lib/python3.12/dist-packages (from torch>=1.11.0->sentence-transformers) (12.6.77)\n",
            "Requirement already satisfied: nvidia-nvjitlink-cu12==12.6.85 in /usr/local/lib/python3.12/dist-packages (from torch>=1.11.0->sentence-transformers) (12.6.85)\n",
            "Requirement already satisfied: nvidia-cufile-cu12==1.11.1.6 in /usr/local/lib/python3.12/dist-packages (from torch>=1.11.0->sentence-transformers) (1.11.1.6)\n",
            "Requirement already satisfied: triton==3.4.0 in /usr/local/lib/python3.12/dist-packages (from torch>=1.11.0->sentence-transformers) (3.4.0)\n",
            "Requirement already satisfied: numpy>=1.17 in /usr/local/lib/python3.12/dist-packages (from transformers<5.0.0,>=4.41.0->sentence-transformers) (2.0.2)\n",
            "Requirement already satisfied: regex!=2019.12.17 in /usr/local/lib/python3.12/dist-packages (from transformers<5.0.0,>=4.41.0->sentence-transformers) (2024.11.6)\n",
            "Requirement already satisfied: tokenizers<=0.23.0,>=0.22.0 in /usr/local/lib/python3.12/dist-packages (from transformers<5.0.0,>=4.41.0->sentence-transformers) (0.22.1)\n",
            "Requirement already satisfied: safetensors>=0.4.3 in /usr/local/lib/python3.12/dist-packages (from transformers<5.0.0,>=4.41.0->sentence-transformers) (0.6.2)\n",
            "Requirement already satisfied: joblib>=1.2.0 in /usr/local/lib/python3.12/dist-packages (from scikit-learn->sentence-transformers) (1.5.2)\n",
            "Requirement already satisfied: threadpoolctl>=3.1.0 in /usr/local/lib/python3.12/dist-packages (from scikit-learn->sentence-transformers) (3.6.0)\n",
            "Requirement already satisfied: mpmath<1.4,>=1.1.0 in /usr/local/lib/python3.12/dist-packages (from sympy>=1.13.3->torch>=1.11.0->sentence-transformers) (1.3.0)\n",
            "Requirement already satisfied: MarkupSafe>=2.0 in /usr/local/lib/python3.12/dist-packages (from jinja2->torch>=1.11.0->sentence-transformers) (3.0.3)\n",
            "Requirement already satisfied: charset_normalizer<4,>=2 in /usr/local/lib/python3.12/dist-packages (from requests->huggingface-hub>=0.20.0->sentence-transformers) (3.4.3)\n",
            "Requirement already satisfied: idna<4,>=2.5 in /usr/local/lib/python3.12/dist-packages (from requests->huggingface-hub>=0.20.0->sentence-transformers) (3.10)\n",
            "Requirement already satisfied: urllib3<3,>=1.21.1 in /usr/local/lib/python3.12/dist-packages (from requests->huggingface-hub>=0.20.0->sentence-transformers) (2.5.0)\n",
            "Requirement already satisfied: certifi>=2017.4.17 in /usr/local/lib/python3.12/dist-packages (from requests->huggingface-hub>=0.20.0->sentence-transformers) (2025.8.3)\n",
            "Requirement already satisfied: numpy in /usr/local/lib/python3.12/dist-packages (2.0.2)\n",
            "Collecting sklearn\n",
            "  Downloading sklearn-0.0.post12.tar.gz (2.6 kB)\n",
            "  \u001b[1;31merror\u001b[0m: \u001b[1msubprocess-exited-with-error\u001b[0m\n",
            "  \n",
            "  \u001b[31m×\u001b[0m \u001b[32mpython setup.py egg_info\u001b[0m did not run successfully.\n",
            "  \u001b[31m│\u001b[0m exit code: \u001b[1;36m1\u001b[0m\n",
            "  \u001b[31m╰─>\u001b[0m See above for output.\n",
            "  \n",
            "  \u001b[1;35mnote\u001b[0m: This error originates from a subprocess, and is likely not a problem with pip.\n",
            "  Preparing metadata (setup.py) ... \u001b[?25l\u001b[?25herror\n",
            "\u001b[1;31merror\u001b[0m: \u001b[1mmetadata-generation-failed\u001b[0m\n",
            "\n",
            "\u001b[31m×\u001b[0m Encountered error while generating package metadata.\n",
            "\u001b[31m╰─>\u001b[0m See above for output.\n",
            "\n",
            "\u001b[1;35mnote\u001b[0m: This is an issue with the package mentioned above, not pip.\n",
            "\u001b[1;36mhint\u001b[0m: See above for details.\n"
          ]
        },
        {
          "output_type": "display_data",
          "data": {
            "text/plain": [
              "modules.json:   0%|          | 0.00/349 [00:00<?, ?B/s]"
            ],
            "application/vnd.jupyter.widget-view+json": {
              "version_major": 2,
              "version_minor": 0,
              "model_id": "8d1b384e1f6a407889cfc6adab205bba"
            }
          },
          "metadata": {}
        },
        {
          "output_type": "display_data",
          "data": {
            "text/plain": [
              "config_sentence_transformers.json:   0%|          | 0.00/116 [00:00<?, ?B/s]"
            ],
            "application/vnd.jupyter.widget-view+json": {
              "version_major": 2,
              "version_minor": 0,
              "model_id": "4824084a6ccc439d829dec75bb7d8fe7"
            }
          },
          "metadata": {}
        },
        {
          "output_type": "display_data",
          "data": {
            "text/plain": [
              "README.md: 0.00B [00:00, ?B/s]"
            ],
            "application/vnd.jupyter.widget-view+json": {
              "version_major": 2,
              "version_minor": 0,
              "model_id": "a181a86b371a40b4955fe0375013064d"
            }
          },
          "metadata": {}
        },
        {
          "output_type": "display_data",
          "data": {
            "text/plain": [
              "sentence_bert_config.json:   0%|          | 0.00/53.0 [00:00<?, ?B/s]"
            ],
            "application/vnd.jupyter.widget-view+json": {
              "version_major": 2,
              "version_minor": 0,
              "model_id": "67acb99fe3194eb1affe991d669e23c4"
            }
          },
          "metadata": {}
        },
        {
          "output_type": "display_data",
          "data": {
            "text/plain": [
              "config.json:   0%|          | 0.00/612 [00:00<?, ?B/s]"
            ],
            "application/vnd.jupyter.widget-view+json": {
              "version_major": 2,
              "version_minor": 0,
              "model_id": "65259199e80e48d2b981a3d83fd14079"
            }
          },
          "metadata": {}
        },
        {
          "output_type": "display_data",
          "data": {
            "text/plain": [
              "model.safetensors:   0%|          | 0.00/90.9M [00:00<?, ?B/s]"
            ],
            "application/vnd.jupyter.widget-view+json": {
              "version_major": 2,
              "version_minor": 0,
              "model_id": "99c15ba9f9b34f9cb5fddc2d28f98891"
            }
          },
          "metadata": {}
        },
        {
          "output_type": "display_data",
          "data": {
            "text/plain": [
              "tokenizer_config.json:   0%|          | 0.00/350 [00:00<?, ?B/s]"
            ],
            "application/vnd.jupyter.widget-view+json": {
              "version_major": 2,
              "version_minor": 0,
              "model_id": "b2f9846900624ba3a6e720af46a5dcc7"
            }
          },
          "metadata": {}
        },
        {
          "output_type": "display_data",
          "data": {
            "text/plain": [
              "vocab.txt: 0.00B [00:00, ?B/s]"
            ],
            "application/vnd.jupyter.widget-view+json": {
              "version_major": 2,
              "version_minor": 0,
              "model_id": "e93c19f050c74caca54078cd7b2f6d10"
            }
          },
          "metadata": {}
        },
        {
          "output_type": "display_data",
          "data": {
            "text/plain": [
              "tokenizer.json: 0.00B [00:00, ?B/s]"
            ],
            "application/vnd.jupyter.widget-view+json": {
              "version_major": 2,
              "version_minor": 0,
              "model_id": "bbb9a0df6dc64b9d9ad9f2a40de5047d"
            }
          },
          "metadata": {}
        },
        {
          "output_type": "display_data",
          "data": {
            "text/plain": [
              "special_tokens_map.json:   0%|          | 0.00/112 [00:00<?, ?B/s]"
            ],
            "application/vnd.jupyter.widget-view+json": {
              "version_major": 2,
              "version_minor": 0,
              "model_id": "b3dfdfbe97214b629c70071f44b10b0d"
            }
          },
          "metadata": {}
        },
        {
          "output_type": "display_data",
          "data": {
            "text/plain": [
              "config.json:   0%|          | 0.00/190 [00:00<?, ?B/s]"
            ],
            "application/vnd.jupyter.widget-view+json": {
              "version_major": 2,
              "version_minor": 0,
              "model_id": "c3208ab24bbb41af9a8ea6dc1404ec0a"
            }
          },
          "metadata": {}
        },
        {
          "output_type": "stream",
          "name": "stdout",
          "text": [
            "Sentence: “The cat sat on the mat.” → closest is “A dog is playing in the yard.” with cosine 0.1573\n",
            "Sentence: “A dog is playing in the yard.” → closest is “The cat sat on the mat.” with cosine 0.1573\n",
            "Sentence: “It is raining heavily today.” → closest is “The weather forecast predicts rain.” with cosine 0.6387\n",
            "Sentence: “I love eating pizza.” → closest is “The pizza was delicious and cheesy.” with cosine 0.5972\n",
            "Sentence: “The weather forecast predicts rain.” → closest is “It is raining heavily today.” with cosine 0.6387\n",
            "Sentence: “He is working on a machine learning project.” → closest is “He programs in Python for data engineering.” with cosine 0.5411\n",
            "Sentence: “She enjoys reading books in her free time.” → closest is “I love eating pizza.” with cosine 0.1737\n",
            "Sentence: “They went for a long hike in the hills.” → closest is “The pizza was delicious and cheesy.” with cosine 0.2078\n",
            "Sentence: “The pizza was delicious and cheesy.” → closest is “I love eating pizza.” with cosine 0.5972\n",
            "Sentence: “He programs in Python for data engineering.” → closest is “He is working on a machine learning project.” with cosine 0.5411\n"
          ]
        }
      ],
      "source": [
        "# Install dependencies\n",
        "!pip install sentence-transformers\n",
        "!pip install numpy\n",
        "!pip install sklearn\n",
        "\n",
        "from sentence_transformers import SentenceTransformer\n",
        "import numpy as np\n",
        "from sklearn.metrics.pairwise import cosine_similarity\n",
        "\n",
        "# 1. Choose 10 sentences\n",
        "sentences = [\n",
        "    \"The cat sat on the mat.\",\n",
        "    \"A dog is playing in the yard.\",\n",
        "    \"It is raining heavily today.\",\n",
        "    \"I love eating pizza.\",\n",
        "    \"The weather forecast predicts rain.\",\n",
        "    \"He is working on a machine learning project.\",\n",
        "    \"She enjoys reading books in her free time.\",\n",
        "    \"They went for a long hike in the hills.\",\n",
        "    \"The pizza was delicious and cheesy.\",\n",
        "    \"He programs in Python for data engineering.\"\n",
        "]\n",
        "\n",
        "model = SentenceTransformer(\"all-MiniLM-L6-v2\")\n",
        "\n",
        "embeddings = model.encode(sentences, convert_to_numpy=True)\n",
        "\n",
        "sim_matrix = cosine_similarity(embeddings)\n",
        "\n",
        "closest_pairs = []\n",
        "for i in range(len(sentences)):\n",
        "    sim_matrix[i, i] = -1\n",
        "    j = np.argmax(sim_matrix[i])\n",
        "    closest_pairs.append((i, j, sim_matrix[i, j]))\n",
        "\n",
        "# Print them\n",
        "for i, j, simscore in closest_pairs:\n",
        "    print(f\"Sentence: “{sentences[i]}” → closest is “{sentences[j]}” with cosine {simscore:.4f}\")\n"
      ]
    },
    {
      "cell_type": "code",
      "source": [
        "best = (None, None, -1)\n",
        "for i in range(len(sentences)):\n",
        "    for j in range(i+1, len(sentences)):\n",
        "        if sim_matrix[i, j] > best[2]:\n",
        "            best = (i, j, sim_matrix[i, j])\n",
        "print(\"Global best pair:\", sentences[best[0]], \"<->\", sentences[best[1]], \"score:\", best[2])"
      ],
      "metadata": {
        "colab": {
          "base_uri": "https://localhost:8080/"
        },
        "id": "1KUoAaGEEfQS",
        "outputId": "d4af45d9-4484-4438-c199-250742dd073b"
      },
      "execution_count": 2,
      "outputs": [
        {
          "output_type": "stream",
          "name": "stdout",
          "text": [
            "Global best pair: It is raining heavily today. <-> The weather forecast predicts rain. score: 0.6386741\n"
          ]
        }
      ]
    }
  ]
}