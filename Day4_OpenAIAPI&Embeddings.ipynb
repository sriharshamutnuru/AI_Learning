{
  "nbformat": 4,
  "nbformat_minor": 0,
  "metadata": {
    "colab": {
      "provenance": [],
      "authorship_tag": "ABX9TyMbXiBOkWrgvaFatvoLBt8G",
      "include_colab_link": true
    },
    "kernelspec": {
      "name": "python3",
      "display_name": "Python 3"
    },
    "language_info": {
      "name": "python"
    }
  },
  "cells": [
    {
      "cell_type": "markdown",
      "metadata": {
        "id": "view-in-github",
        "colab_type": "text"
      },
      "source": [
        "<a href=\"https://colab.research.google.com/github/sriharshamutnuru/AI_Learning/blob/main/Day4_OpenAIAPI%26Embeddings.ipynb\" target=\"_parent\"><img src=\"https://colab.research.google.com/assets/colab-badge.svg\" alt=\"Open In Colab\"/></a>"
      ]
    },
    {
      "cell_type": "code",
      "execution_count": 1,
      "metadata": {
        "id": "wsNIL_vyy5sQ"
      },
      "outputs": [],
      "source": [
        "!pip install openai --quiet\n"
      ]
    },
    {
      "cell_type": "code",
      "source": [
        "import os\n",
        "from google.colab import userdata\n",
        "\n",
        "os.environ[\"OPENAI_API_KEY\"] = userdata.get(\"OPENAI_API_KEY\")\n",
        "os.environ[\"HUGGINGFACEHUB_API_TOKEN\"] = userdata.get(\"HF_TOKEN\")\n",
        "\n",
        "!pip install openai --quiet\n",
        "from openai import OpenAI\n",
        "\n",
        "# Create client\n",
        "client = OpenAI(api_key=os.environ[\"OPENAI_API_KEY\"])\n",
        "\n",
        "# Prompt\n",
        "prompt = \"\"\"\n",
        "Explain in simple terms how embeddings help AI systems understand meaning in text.\n",
        "\"\"\"\n",
        "\n",
        "# Generate text using GPT-4o-mini\n",
        "response = client.responses.create(\n",
        "    model=\"gpt-4o-mini\",\n",
        "    input=prompt,\n",
        "    max_output_tokens=150\n",
        ")\n",
        "\n",
        "# Display output\n",
        "print(\"🧠 Generated Text:\\n\")\n",
        "print(response.output[0].content[0].text)\n"
      ],
      "metadata": {
        "colab": {
          "base_uri": "https://localhost:8080/"
        },
        "id": "EzdpeZFAzHqb",
        "outputId": "823a71ff-11f5-4a3c-f535-1d07e08cb39f"
      },
      "execution_count": 5,
      "outputs": [
        {
          "output_type": "stream",
          "name": "stdout",
          "text": [
            "🧠 Generated Text:\n",
            "\n",
            "Sure! Imagine you have a big box of crayons. Each crayon represents a word. Some crayons are similar in color, while others are very different. \n",
            "\n",
            "In the world of AI, embeddings are like taking all those crayons and translating them into a special space where similar colors (or words) are closer together. This means that words with similar meanings are also close to each other in this space.\n",
            "\n",
            "So, when an AI system uses embeddings, it can understand that \"king\" and \"queen\" are related because they're close together, while \"king\" and \"car\" are far apart. This helps the AI make sense of text, recognize relationships, and understand the meaning behind the words better, much like how we might understand a story or conversation\n"
          ]
        }
      ]
    },
    {
      "cell_type": "code",
      "source": [
        "texts = [\n",
        "    \"Data Engineers build and manage pipelines.\",\n",
        "    \"AI models learn from large datasets.\",\n",
        "    \"Transformers understand word relationships.\",\n",
        "    \"Embeddings represent meaning numerically.\",\n",
        "    \"Vector databases store semantic representations.\"\n",
        "]\n",
        "\n",
        "# Create embeddings\n",
        "embeddings = client.embeddings.create(\n",
        "    model=\"text-embedding-3-small\",\n",
        "    input=texts\n",
        ")\n",
        "\n",
        "# Check embedding dimensions\n",
        "for i, e in enumerate(embeddings.data):\n",
        "    print(f\"Sentence {i+1}: embedding length = {len(e.embedding)}\")\n"
      ],
      "metadata": {
        "colab": {
          "base_uri": "https://localhost:8080/"
        },
        "id": "70-wQOfJziTY",
        "outputId": "23019f3d-5b3e-4b93-929c-a46690a7fe95"
      },
      "execution_count": 6,
      "outputs": [
        {
          "output_type": "stream",
          "name": "stdout",
          "text": [
            "Sentence 1: embedding length = 1536\n",
            "Sentence 2: embedding length = 1536\n",
            "Sentence 3: embedding length = 1536\n",
            "Sentence 4: embedding length = 1536\n",
            "Sentence 5: embedding length = 1536\n"
          ]
        }
      ]
    }
  ]
}